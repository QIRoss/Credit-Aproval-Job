{
 "cells": [
  {
   "cell_type": "markdown",
   "metadata": {},
   "source": [
    "## Imports"
   ]
  },
  {
   "cell_type": "code",
   "execution_count": 40,
   "metadata": {},
   "outputs": [],
   "source": [
    "import pandas as pd\n",
    "import matplotlib.pyplot as plt\n",
    "import seaborn as sns\n",
    "import numpy as np\n",
    "from datetime import date"
   ]
  },
  {
   "cell_type": "markdown",
   "metadata": {},
   "source": [
    "## Data"
   ]
  },
  {
   "cell_type": "code",
   "execution_count": 27,
   "metadata": {},
   "outputs": [
    {
     "data": {
      "text/html": [
       "<div>\n",
       "<style scoped>\n",
       "    .dataframe tbody tr th:only-of-type {\n",
       "        vertical-align: middle;\n",
       "    }\n",
       "\n",
       "    .dataframe tbody tr th {\n",
       "        vertical-align: top;\n",
       "    }\n",
       "\n",
       "    .dataframe thead th {\n",
       "        text-align: right;\n",
       "    }\n",
       "</style>\n",
       "<table border=\"1\" class=\"dataframe\">\n",
       "  <thead>\n",
       "    <tr style=\"text-align: right;\">\n",
       "      <th></th>\n",
       "      <th>id_solicitante</th>\n",
       "      <th>produto_solicitado</th>\n",
       "      <th>dia_vencimento</th>\n",
       "      <th>forma_envio_solicitacao</th>\n",
       "      <th>tipo_endereco</th>\n",
       "      <th>sexo</th>\n",
       "      <th>idade</th>\n",
       "      <th>estado_civil</th>\n",
       "      <th>qtde_dependentes</th>\n",
       "      <th>grau_instrucao</th>\n",
       "      <th>...</th>\n",
       "      <th>codigo_area_telefone_trabalho</th>\n",
       "      <th>meses_no_trabalho</th>\n",
       "      <th>profissao</th>\n",
       "      <th>ocupacao</th>\n",
       "      <th>profissao_companheiro</th>\n",
       "      <th>grau_instrucao_companheiro</th>\n",
       "      <th>local_onde_reside</th>\n",
       "      <th>local_onde_trabalha</th>\n",
       "      <th>inadimplente</th>\n",
       "      <th>origem</th>\n",
       "    </tr>\n",
       "  </thead>\n",
       "  <tbody>\n",
       "    <tr>\n",
       "      <th>0</th>\n",
       "      <td>1</td>\n",
       "      <td>1</td>\n",
       "      <td>10</td>\n",
       "      <td>presencial</td>\n",
       "      <td>1</td>\n",
       "      <td>M</td>\n",
       "      <td>85</td>\n",
       "      <td>2</td>\n",
       "      <td>0</td>\n",
       "      <td>0</td>\n",
       "      <td>...</td>\n",
       "      <td></td>\n",
       "      <td>0</td>\n",
       "      <td>9.0</td>\n",
       "      <td>1.0</td>\n",
       "      <td>0.0</td>\n",
       "      <td>0.0</td>\n",
       "      <td>600.0</td>\n",
       "      <td>600.0</td>\n",
       "      <td>0.0</td>\n",
       "      <td>treino</td>\n",
       "    </tr>\n",
       "    <tr>\n",
       "      <th>1</th>\n",
       "      <td>2</td>\n",
       "      <td>1</td>\n",
       "      <td>25</td>\n",
       "      <td>internet</td>\n",
       "      <td>1</td>\n",
       "      <td>F</td>\n",
       "      <td>38</td>\n",
       "      <td>1</td>\n",
       "      <td>0</td>\n",
       "      <td>0</td>\n",
       "      <td>...</td>\n",
       "      <td></td>\n",
       "      <td>0</td>\n",
       "      <td>2.0</td>\n",
       "      <td>5.0</td>\n",
       "      <td>NaN</td>\n",
       "      <td>NaN</td>\n",
       "      <td>492.0</td>\n",
       "      <td>492.0</td>\n",
       "      <td>0.0</td>\n",
       "      <td>treino</td>\n",
       "    </tr>\n",
       "    <tr>\n",
       "      <th>2</th>\n",
       "      <td>3</td>\n",
       "      <td>1</td>\n",
       "      <td>20</td>\n",
       "      <td>internet</td>\n",
       "      <td>1</td>\n",
       "      <td>F</td>\n",
       "      <td>37</td>\n",
       "      <td>2</td>\n",
       "      <td>0</td>\n",
       "      <td>0</td>\n",
       "      <td>...</td>\n",
       "      <td></td>\n",
       "      <td>0</td>\n",
       "      <td>NaN</td>\n",
       "      <td>NaN</td>\n",
       "      <td>NaN</td>\n",
       "      <td>NaN</td>\n",
       "      <td>450.0</td>\n",
       "      <td>450.0</td>\n",
       "      <td>1.0</td>\n",
       "      <td>treino</td>\n",
       "    </tr>\n",
       "    <tr>\n",
       "      <th>3</th>\n",
       "      <td>4</td>\n",
       "      <td>1</td>\n",
       "      <td>20</td>\n",
       "      <td>internet</td>\n",
       "      <td>1</td>\n",
       "      <td>M</td>\n",
       "      <td>37</td>\n",
       "      <td>1</td>\n",
       "      <td>1</td>\n",
       "      <td>0</td>\n",
       "      <td>...</td>\n",
       "      <td>54</td>\n",
       "      <td>0</td>\n",
       "      <td>9.0</td>\n",
       "      <td>2.0</td>\n",
       "      <td>NaN</td>\n",
       "      <td>NaN</td>\n",
       "      <td>932.0</td>\n",
       "      <td>932.0</td>\n",
       "      <td>1.0</td>\n",
       "      <td>treino</td>\n",
       "    </tr>\n",
       "    <tr>\n",
       "      <th>4</th>\n",
       "      <td>5</td>\n",
       "      <td>7</td>\n",
       "      <td>1</td>\n",
       "      <td>internet</td>\n",
       "      <td>1</td>\n",
       "      <td>F</td>\n",
       "      <td>51</td>\n",
       "      <td>1</td>\n",
       "      <td>3</td>\n",
       "      <td>0</td>\n",
       "      <td>...</td>\n",
       "      <td></td>\n",
       "      <td>0</td>\n",
       "      <td>9.0</td>\n",
       "      <td>5.0</td>\n",
       "      <td>NaN</td>\n",
       "      <td>NaN</td>\n",
       "      <td>440.0</td>\n",
       "      <td>440.0</td>\n",
       "      <td>1.0</td>\n",
       "      <td>treino</td>\n",
       "    </tr>\n",
       "    <tr>\n",
       "      <th>...</th>\n",
       "      <td>...</td>\n",
       "      <td>...</td>\n",
       "      <td>...</td>\n",
       "      <td>...</td>\n",
       "      <td>...</td>\n",
       "      <td>...</td>\n",
       "      <td>...</td>\n",
       "      <td>...</td>\n",
       "      <td>...</td>\n",
       "      <td>...</td>\n",
       "      <td>...</td>\n",
       "      <td>...</td>\n",
       "      <td>...</td>\n",
       "      <td>...</td>\n",
       "      <td>...</td>\n",
       "      <td>...</td>\n",
       "      <td>...</td>\n",
       "      <td>...</td>\n",
       "      <td>...</td>\n",
       "      <td>...</td>\n",
       "      <td>...</td>\n",
       "    </tr>\n",
       "    <tr>\n",
       "      <th>4995</th>\n",
       "      <td>24996</td>\n",
       "      <td>1</td>\n",
       "      <td>10</td>\n",
       "      <td>presencial</td>\n",
       "      <td>1</td>\n",
       "      <td>F</td>\n",
       "      <td>49</td>\n",
       "      <td>2</td>\n",
       "      <td>1</td>\n",
       "      <td>0</td>\n",
       "      <td>...</td>\n",
       "      <td></td>\n",
       "      <td>0</td>\n",
       "      <td>9.0</td>\n",
       "      <td>1.0</td>\n",
       "      <td>0.0</td>\n",
       "      <td>0.0</td>\n",
       "      <td>652.0</td>\n",
       "      <td>652.0</td>\n",
       "      <td>NaN</td>\n",
       "      <td>teste</td>\n",
       "    </tr>\n",
       "    <tr>\n",
       "      <th>4996</th>\n",
       "      <td>24997</td>\n",
       "      <td>1</td>\n",
       "      <td>5</td>\n",
       "      <td>internet</td>\n",
       "      <td>1</td>\n",
       "      <td>M</td>\n",
       "      <td>18</td>\n",
       "      <td>2</td>\n",
       "      <td>0</td>\n",
       "      <td>0</td>\n",
       "      <td>...</td>\n",
       "      <td></td>\n",
       "      <td>0</td>\n",
       "      <td>NaN</td>\n",
       "      <td>NaN</td>\n",
       "      <td>NaN</td>\n",
       "      <td>NaN</td>\n",
       "      <td>855.0</td>\n",
       "      <td>855.0</td>\n",
       "      <td>NaN</td>\n",
       "      <td>teste</td>\n",
       "    </tr>\n",
       "    <tr>\n",
       "      <th>4997</th>\n",
       "      <td>24998</td>\n",
       "      <td>1</td>\n",
       "      <td>10</td>\n",
       "      <td>presencial</td>\n",
       "      <td>1</td>\n",
       "      <td>F</td>\n",
       "      <td>29</td>\n",
       "      <td>1</td>\n",
       "      <td>0</td>\n",
       "      <td>0</td>\n",
       "      <td>...</td>\n",
       "      <td></td>\n",
       "      <td>0</td>\n",
       "      <td>9.0</td>\n",
       "      <td>5.0</td>\n",
       "      <td>NaN</td>\n",
       "      <td>NaN</td>\n",
       "      <td>371.0</td>\n",
       "      <td>371.0</td>\n",
       "      <td>NaN</td>\n",
       "      <td>teste</td>\n",
       "    </tr>\n",
       "    <tr>\n",
       "      <th>4998</th>\n",
       "      <td>24999</td>\n",
       "      <td>1</td>\n",
       "      <td>25</td>\n",
       "      <td>internet</td>\n",
       "      <td>1</td>\n",
       "      <td>F</td>\n",
       "      <td>31</td>\n",
       "      <td>2</td>\n",
       "      <td>2</td>\n",
       "      <td>0</td>\n",
       "      <td>...</td>\n",
       "      <td></td>\n",
       "      <td>0</td>\n",
       "      <td>NaN</td>\n",
       "      <td>NaN</td>\n",
       "      <td>NaN</td>\n",
       "      <td>NaN</td>\n",
       "      <td>670.0</td>\n",
       "      <td>670.0</td>\n",
       "      <td>NaN</td>\n",
       "      <td>teste</td>\n",
       "    </tr>\n",
       "    <tr>\n",
       "      <th>4999</th>\n",
       "      <td>25000</td>\n",
       "      <td>1</td>\n",
       "      <td>25</td>\n",
       "      <td>presencial</td>\n",
       "      <td>1</td>\n",
       "      <td>F</td>\n",
       "      <td>54</td>\n",
       "      <td>1</td>\n",
       "      <td>0</td>\n",
       "      <td>0</td>\n",
       "      <td>...</td>\n",
       "      <td>81</td>\n",
       "      <td>0</td>\n",
       "      <td>9.0</td>\n",
       "      <td>5.0</td>\n",
       "      <td>0.0</td>\n",
       "      <td>0.0</td>\n",
       "      <td>402.0</td>\n",
       "      <td>402.0</td>\n",
       "      <td>NaN</td>\n",
       "      <td>teste</td>\n",
       "    </tr>\n",
       "  </tbody>\n",
       "</table>\n",
       "<p>25000 rows × 43 columns</p>\n",
       "</div>"
      ],
      "text/plain": [
       "      id_solicitante  produto_solicitado  dia_vencimento  \\\n",
       "0                  1                   1              10   \n",
       "1                  2                   1              25   \n",
       "2                  3                   1              20   \n",
       "3                  4                   1              20   \n",
       "4                  5                   7               1   \n",
       "...              ...                 ...             ...   \n",
       "4995           24996                   1              10   \n",
       "4996           24997                   1               5   \n",
       "4997           24998                   1              10   \n",
       "4998           24999                   1              25   \n",
       "4999           25000                   1              25   \n",
       "\n",
       "     forma_envio_solicitacao  tipo_endereco sexo  idade  estado_civil  \\\n",
       "0                 presencial              1    M     85             2   \n",
       "1                   internet              1    F     38             1   \n",
       "2                   internet              1    F     37             2   \n",
       "3                   internet              1    M     37             1   \n",
       "4                   internet              1    F     51             1   \n",
       "...                      ...            ...  ...    ...           ...   \n",
       "4995              presencial              1    F     49             2   \n",
       "4996                internet              1    M     18             2   \n",
       "4997              presencial              1    F     29             1   \n",
       "4998                internet              1    F     31             2   \n",
       "4999              presencial              1    F     54             1   \n",
       "\n",
       "      qtde_dependentes  grau_instrucao  ...  codigo_area_telefone_trabalho  \\\n",
       "0                    0               0  ...                                  \n",
       "1                    0               0  ...                                  \n",
       "2                    0               0  ...                                  \n",
       "3                    1               0  ...                             54   \n",
       "4                    3               0  ...                                  \n",
       "...                ...             ...  ...                            ...   \n",
       "4995                 1               0  ...                                  \n",
       "4996                 0               0  ...                                  \n",
       "4997                 0               0  ...                                  \n",
       "4998                 2               0  ...                                  \n",
       "4999                 0               0  ...                             81   \n",
       "\n",
       "     meses_no_trabalho profissao ocupacao profissao_companheiro  \\\n",
       "0                    0       9.0      1.0                   0.0   \n",
       "1                    0       2.0      5.0                   NaN   \n",
       "2                    0       NaN      NaN                   NaN   \n",
       "3                    0       9.0      2.0                   NaN   \n",
       "4                    0       9.0      5.0                   NaN   \n",
       "...                ...       ...      ...                   ...   \n",
       "4995                 0       9.0      1.0                   0.0   \n",
       "4996                 0       NaN      NaN                   NaN   \n",
       "4997                 0       9.0      5.0                   NaN   \n",
       "4998                 0       NaN      NaN                   NaN   \n",
       "4999                 0       9.0      5.0                   0.0   \n",
       "\n",
       "      grau_instrucao_companheiro  local_onde_reside local_onde_trabalha  \\\n",
       "0                            0.0              600.0               600.0   \n",
       "1                            NaN              492.0               492.0   \n",
       "2                            NaN              450.0               450.0   \n",
       "3                            NaN              932.0               932.0   \n",
       "4                            NaN              440.0               440.0   \n",
       "...                          ...                ...                 ...   \n",
       "4995                         0.0              652.0               652.0   \n",
       "4996                         NaN              855.0               855.0   \n",
       "4997                         NaN              371.0               371.0   \n",
       "4998                         NaN              670.0               670.0   \n",
       "4999                         0.0              402.0               402.0   \n",
       "\n",
       "      inadimplente  origem  \n",
       "0              0.0  treino  \n",
       "1              0.0  treino  \n",
       "2              1.0  treino  \n",
       "3              1.0  treino  \n",
       "4              1.0  treino  \n",
       "...            ...     ...  \n",
       "4995           NaN   teste  \n",
       "4996           NaN   teste  \n",
       "4997           NaN   teste  \n",
       "4998           NaN   teste  \n",
       "4999           NaN   teste  \n",
       "\n",
       "[25000 rows x 43 columns]"
      ]
     },
     "execution_count": 27,
     "metadata": {},
     "output_type": "execute_result"
    }
   ],
   "source": [
    "train_df = pd.read_csv('data/desafio 1/conjunto_de_treinamento.csv')\n",
    "test_df = pd.read_csv('data/desafio 1/conjunto_de_teste.csv')\n",
    "train_df['origem'] = 'treino'\n",
    "test_df['origem'] = 'teste'\n",
    "\n",
    "credit_df = pd.concat([train_df, test_df])\n",
    "credit_df"
   ]
  },
  {
   "cell_type": "code",
   "execution_count": 48,
   "metadata": {},
   "outputs": [
    {
     "data": {
      "text/plain": [
       "Index(['id_solicitante', 'produto_solicitado', 'dia_vencimento',\n",
       "       'forma_envio_solicitacao', 'tipo_endereco', 'sexo', 'idade',\n",
       "       'estado_civil', 'qtde_dependentes', 'grau_instrucao', 'nacionalidade',\n",
       "       'estado_onde_nasceu', 'estado_onde_reside',\n",
       "       'possui_telefone_residencial', 'codigo_area_telefone_residencial',\n",
       "       'tipo_residencia', 'meses_na_residencia', 'possui_telefone_celular',\n",
       "       'possui_email', 'renda_mensal_regular', 'renda_extra',\n",
       "       'possui_cartao_visa', 'possui_cartao_mastercard',\n",
       "       'possui_cartao_diners', 'possui_cartao_amex', 'possui_outros_cartoes',\n",
       "       'qtde_contas_bancarias', 'qtde_contas_bancarias_especiais',\n",
       "       'valor_patrimonio_pessoal', 'possui_carro',\n",
       "       'vinculo_formal_com_empresa', 'estado_onde_trabalha',\n",
       "       'possui_telefone_trabalho', 'codigo_area_telefone_trabalho',\n",
       "       'meses_no_trabalho', 'profissao', 'ocupacao', 'profissao_companheiro',\n",
       "       'grau_instrucao_companheiro', 'local_onde_reside',\n",
       "       'local_onde_trabalha', 'inadimplente', 'idade_bin'],\n",
       "      dtype='object')"
      ]
     },
     "execution_count": 48,
     "metadata": {},
     "output_type": "execute_result"
    }
   ],
   "source": [
    "credit_df.columns"
   ]
  },
  {
   "cell_type": "markdown",
   "metadata": {},
   "source": [
    "### Análise por idade"
   ]
  },
  {
   "cell_type": "code",
   "execution_count": 28,
   "metadata": {},
   "outputs": [
    {
     "data": {
      "text/plain": [
       "86"
      ]
     },
     "execution_count": 28,
     "metadata": {},
     "output_type": "execute_result"
    }
   ],
   "source": [
    "len(credit_df['idade'].unique().tolist())"
   ]
  },
  {
   "cell_type": "code",
   "execution_count": 30,
   "metadata": {},
   "outputs": [
    {
     "data": {
      "text/plain": [
       "idade\n",
       "7        1\n",
       "17       7\n",
       "18     265\n",
       "19     260\n",
       "20     293\n",
       "      ... \n",
       "95       4\n",
       "96       2\n",
       "97       1\n",
       "100      1\n",
       "106      2\n",
       "Length: 84, dtype: int64"
      ]
     },
     "execution_count": 30,
     "metadata": {},
     "output_type": "execute_result"
    }
   ],
   "source": [
    "credit_df.groupby('idade').size()"
   ]
  },
  {
   "cell_type": "code",
   "execution_count": 29,
   "metadata": {
    "scrolled": true
   },
   "outputs": [
    {
     "data": {
      "text/html": [
       "<div>\n",
       "<style scoped>\n",
       "    .dataframe tbody tr th:only-of-type {\n",
       "        vertical-align: middle;\n",
       "    }\n",
       "\n",
       "    .dataframe tbody tr th {\n",
       "        vertical-align: top;\n",
       "    }\n",
       "\n",
       "    .dataframe thead th {\n",
       "        text-align: right;\n",
       "    }\n",
       "</style>\n",
       "<table border=\"1\" class=\"dataframe\">\n",
       "  <thead>\n",
       "    <tr style=\"text-align: right;\">\n",
       "      <th></th>\n",
       "      <th>idade_bin</th>\n",
       "      <th>inadimplente</th>\n",
       "      <th>0</th>\n",
       "    </tr>\n",
       "  </thead>\n",
       "  <tbody>\n",
       "    <tr>\n",
       "      <th>0</th>\n",
       "      <td>(0, 10]</td>\n",
       "      <td>0.0</td>\n",
       "      <td>0</td>\n",
       "    </tr>\n",
       "    <tr>\n",
       "      <th>1</th>\n",
       "      <td>(0, 10]</td>\n",
       "      <td>1.0</td>\n",
       "      <td>1</td>\n",
       "    </tr>\n",
       "    <tr>\n",
       "      <th>2</th>\n",
       "      <td>(10, 20]</td>\n",
       "      <td>0.0</td>\n",
       "      <td>289</td>\n",
       "    </tr>\n",
       "    <tr>\n",
       "      <th>3</th>\n",
       "      <td>(10, 20]</td>\n",
       "      <td>1.0</td>\n",
       "      <td>536</td>\n",
       "    </tr>\n",
       "    <tr>\n",
       "      <th>4</th>\n",
       "      <td>(20, 30]</td>\n",
       "      <td>0.0</td>\n",
       "      <td>1774</td>\n",
       "    </tr>\n",
       "    <tr>\n",
       "      <th>5</th>\n",
       "      <td>(20, 30]</td>\n",
       "      <td>1.0</td>\n",
       "      <td>2315</td>\n",
       "    </tr>\n",
       "    <tr>\n",
       "      <th>6</th>\n",
       "      <td>(30, 40]</td>\n",
       "      <td>0.0</td>\n",
       "      <td>2411</td>\n",
       "    </tr>\n",
       "    <tr>\n",
       "      <th>7</th>\n",
       "      <td>(30, 40]</td>\n",
       "      <td>1.0</td>\n",
       "      <td>2697</td>\n",
       "    </tr>\n",
       "    <tr>\n",
       "      <th>8</th>\n",
       "      <td>(40, 50]</td>\n",
       "      <td>0.0</td>\n",
       "      <td>2273</td>\n",
       "    </tr>\n",
       "    <tr>\n",
       "      <th>9</th>\n",
       "      <td>(40, 50]</td>\n",
       "      <td>1.0</td>\n",
       "      <td>2164</td>\n",
       "    </tr>\n",
       "    <tr>\n",
       "      <th>10</th>\n",
       "      <td>(50, 60]</td>\n",
       "      <td>0.0</td>\n",
       "      <td>1660</td>\n",
       "    </tr>\n",
       "    <tr>\n",
       "      <th>11</th>\n",
       "      <td>(50, 60]</td>\n",
       "      <td>1.0</td>\n",
       "      <td>1214</td>\n",
       "    </tr>\n",
       "    <tr>\n",
       "      <th>12</th>\n",
       "      <td>(60, 70]</td>\n",
       "      <td>0.0</td>\n",
       "      <td>1109</td>\n",
       "    </tr>\n",
       "    <tr>\n",
       "      <th>13</th>\n",
       "      <td>(60, 70]</td>\n",
       "      <td>1.0</td>\n",
       "      <td>656</td>\n",
       "    </tr>\n",
       "    <tr>\n",
       "      <th>14</th>\n",
       "      <td>(70, 80]</td>\n",
       "      <td>0.0</td>\n",
       "      <td>403</td>\n",
       "    </tr>\n",
       "    <tr>\n",
       "      <th>15</th>\n",
       "      <td>(70, 80]</td>\n",
       "      <td>1.0</td>\n",
       "      <td>300</td>\n",
       "    </tr>\n",
       "    <tr>\n",
       "      <th>16</th>\n",
       "      <td>(80, 90]</td>\n",
       "      <td>0.0</td>\n",
       "      <td>73</td>\n",
       "    </tr>\n",
       "    <tr>\n",
       "      <th>17</th>\n",
       "      <td>(80, 90]</td>\n",
       "      <td>1.0</td>\n",
       "      <td>98</td>\n",
       "    </tr>\n",
       "    <tr>\n",
       "      <th>18</th>\n",
       "      <td>(90, 100]</td>\n",
       "      <td>0.0</td>\n",
       "      <td>7</td>\n",
       "    </tr>\n",
       "    <tr>\n",
       "      <th>19</th>\n",
       "      <td>(90, 100]</td>\n",
       "      <td>1.0</td>\n",
       "      <td>18</td>\n",
       "    </tr>\n",
       "    <tr>\n",
       "      <th>20</th>\n",
       "      <td>(100, 110]</td>\n",
       "      <td>0.0</td>\n",
       "      <td>1</td>\n",
       "    </tr>\n",
       "    <tr>\n",
       "      <th>21</th>\n",
       "      <td>(100, 110]</td>\n",
       "      <td>1.0</td>\n",
       "      <td>1</td>\n",
       "    </tr>\n",
       "  </tbody>\n",
       "</table>\n",
       "</div>"
      ],
      "text/plain": [
       "     idade_bin  inadimplente     0\n",
       "0      (0, 10]           0.0     0\n",
       "1      (0, 10]           1.0     1\n",
       "2     (10, 20]           0.0   289\n",
       "3     (10, 20]           1.0   536\n",
       "4     (20, 30]           0.0  1774\n",
       "5     (20, 30]           1.0  2315\n",
       "6     (30, 40]           0.0  2411\n",
       "7     (30, 40]           1.0  2697\n",
       "8     (40, 50]           0.0  2273\n",
       "9     (40, 50]           1.0  2164\n",
       "10    (50, 60]           0.0  1660\n",
       "11    (50, 60]           1.0  1214\n",
       "12    (60, 70]           0.0  1109\n",
       "13    (60, 70]           1.0   656\n",
       "14    (70, 80]           0.0   403\n",
       "15    (70, 80]           1.0   300\n",
       "16    (80, 90]           0.0    73\n",
       "17    (80, 90]           1.0    98\n",
       "18   (90, 100]           0.0     7\n",
       "19   (90, 100]           1.0    18\n",
       "20  (100, 110]           0.0     1\n",
       "21  (100, 110]           1.0     1"
      ]
     },
     "execution_count": 29,
     "metadata": {},
     "output_type": "execute_result"
    }
   ],
   "source": [
    "credit_df['idade_bin'] = pd.cut(\n",
    "    credit_df['idade'], bins = [0, 10, 20, 30, 40, 50, 60, 70, 80, 90, 100, 110])\n",
    "\n",
    "\n",
    "x = credit_df.groupby(['idade_bin', 'inadimplente']).size().to_frame().reset_index()\n",
    "\n",
    "x"
   ]
  },
  {
   "cell_type": "code",
   "execution_count": 41,
   "metadata": {},
   "outputs": [
    {
     "data": {
      "text/plain": [
       "<AxesSubplot:xlabel='idade_bin', ylabel='0'>"
      ]
     },
     "execution_count": 41,
     "metadata": {},
     "output_type": "execute_result"
    },
    {
     "data": {
      "image/png": "[encoded data removed]",
      "text/plain": [
       "<Figure size 432x288 with 1 Axes>"
      ]
     },
     "metadata": {
      "needs_background": "light"
     },
     "output_type": "display_data"
    }
   ],
   "source": [
    "\n",
    "sns.barplot(x='idade_bin', y=0, hue='inadimplente', data=x)"
   ]
  },
  {
   "cell_type": "markdown",
   "metadata": {},
   "source": [
    "### Análise features"
   ]
  },
  {
   "cell_type": "code",
   "execution_count": 5,
   "metadata": {},
   "outputs": [],
   "source": [
    "def plot_inadimplente_analysis(col):\n",
    "    print('\\n')\n",
    "    print(col)\n",
    "    x = credit_df.groupby([col, 'inadimplente']).size().to_frame().reset_index()\n",
    "    print(x)\n",
    "    sns.barplot(x=col, y=0, data=x, hue='inadimplente')\n",
    "    \n",
    "    \n",
    "        \n",
    "    plt.show()\n",
    "    "
   ]
  },
  {
   "cell_type": "code",
   "execution_count": 6,
   "metadata": {},
   "outputs": [
    {
     "name": "stdout",
     "output_type": "stream",
     "text": [
      "\n",
      "\n",
      "carro_e_emprego\n",
      "  carro_e_emprego  inadimplente     0\n",
      "0               0             0  3866\n",
      "1               0             1  3745\n",
      "2               2             0  6134\n",
      "3               2             1  6255\n"
     ]
    },
    {
     "data": {
      "image/png": "[encoded data removed]",
      "text/plain": [
       "<Figure size 432x288 with 1 Axes>"
      ]
     },
     "metadata": {
      "needs_background": "light"
     },
     "output_type": "display_data"
    }
   ],
   "source": [
    "credit_df.loc[\n",
    "    (credit_df['possui_carro']== 1) |\n",
    "    (credit_df['vinculo_formal_com_empresa'] == 'Y'),\n",
    "    'carro_e_emprego'\n",
    "] = '2'\n",
    "\n",
    "credit_df.loc[\n",
    "    (credit_df['possui_carro'] == 0) & \n",
    "    (credit_df['vinculo_formal_com_empresa'] == 'N'),\n",
    "    'carro_e_emprego'\n",
    "] = '0'\n",
    "\n",
    "credit_df['carro_e_emprego'].fillna('1', inplace=True)\n",
    "\n",
    "credit_df['carro_e_emprego'].unique()\n",
    "plot_inadimplente_analysis('carro_e_emprego')"
   ]
  },
  {
   "cell_type": "code",
   "execution_count": 218,
   "metadata": {},
   "outputs": [
    {
     "name": "stdout",
     "output_type": "stream",
     "text": [
      "\n",
      "\n",
      "dia_vencimento\n",
      "    dia_vencimento  inadimplente     0\n",
      "0                1             0   356\n",
      "1                1             1   374\n",
      "2                5             0  1531\n",
      "3                5             1  1294\n",
      "4               10             0  4213\n",
      "5               10             1  3634\n",
      "6               15             0  1714\n",
      "7               15             1  1843\n",
      "8               20             0   890\n",
      "9               20             1  1062\n",
      "10              25             0  1296\n",
      "11              25             1  1793\n"
     ]
    },
    {
     "data": {
      "image/png": "[encoded data removed]",
      "text/plain": [
       "<Figure size 432x288 with 1 Axes>"
      ]
     },
     "metadata": {},
     "output_type": "display_data"
    },
    {
     "name": "stdout",
     "output_type": "stream",
     "text": [
      "\n",
      "\n",
      "forma_envio_solicitacao\n",
      "  forma_envio_solicitacao  inadimplente     0\n",
      "0                 correio             0   476\n",
      "1                 correio             1   405\n",
      "2                internet             0  5663\n",
      "3                internet             1  5601\n",
      "4              presencial             0  3861\n",
      "5              presencial             1  3994\n"
     ]
    },
    {
     "data": {
      "image/png": "[encoded data removed]",
      "text/plain": [
       "<Figure size 432x288 with 1 Axes>"
      ]
     },
     "metadata": {},
     "output_type": "display_data"
    },
    {
     "name": "stdout",
     "output_type": "stream",
     "text": [
      "\n",
      "\n",
      "sexo\n",
      "  sexo  inadimplente     0\n",
      "0                  0     2\n",
      "1                  1     5\n",
      "2    F             0  6268\n",
      "3    F             1  5978\n",
      "4    M             0  3718\n",
      "5    M             1  4004\n",
      "6    N             0    12\n",
      "7    N             1    13\n"
     ]
    },
    {
     "data": {
      "image/png": "[encoded data removed]",
      "text/plain": [
       "<Figure size 432x288 with 1 Axes>"
      ]
     },
     "metadata": {},
     "output_type": "display_data"
    },
    {
     "name": "stdout",
     "output_type": "stream",
     "text": [
      "\n",
      "\n",
      "estado_civil\n",
      "    estado_civil  inadimplente     0\n",
      "0              0             0    44\n",
      "1              0             1    37\n",
      "2              1             0  2955\n",
      "3              1             1  3564\n",
      "4              2             0  5250\n",
      "5              2             1  4838\n",
      "6              3             0   127\n",
      "7              3             1   107\n",
      "8              4             0   899\n",
      "9              4             1   674\n",
      "10             5             0   270\n",
      "11             5             1   252\n",
      "12             6             0   342\n",
      "13             6             1   421\n",
      "14             7             0   113\n",
      "15             7             1   107\n"
     ]
    },
    {
     "data": {
      "image/png": "[encoded data removed]",
      "text/plain": [
       "<Figure size 432x288 with 1 Axes>"
      ]
     },
     "metadata": {},
     "output_type": "display_data"
    },
    {
     "name": "stdout",
     "output_type": "stream",
     "text": [
      "\n",
      "\n",
      "possui_telefone_residencial\n",
      "  possui_telefone_residencial  inadimplente     0\n",
      "0                           N             0  1455\n",
      "1                           N             1  2071\n",
      "2                           Y             0  8545\n",
      "3                           Y             1  7929\n"
     ]
    },
    {
     "data": {
      "image/png": "[encoded data removed]",
      "text/plain": [
       "<Figure size 432x288 with 1 Axes>"
      ]
     },
     "metadata": {},
     "output_type": "display_data"
    },
    {
     "name": "stdout",
     "output_type": "stream",
     "text": [
      "\n",
      "\n",
      "estado_onde_nasceu\n",
      "   estado_onde_nasceu  inadimplente     0\n",
      "0                                 0   415\n",
      "1                                 1   407\n",
      "2                  AC             0    82\n",
      "3                  AC             1   110\n",
      "4                  AL             0   319\n",
      "5                  AL             1   359\n",
      "6                  AM             0    72\n",
      "7                  AM             1    75\n",
      "8                  AP             0    54\n",
      "9                  AP             1    48\n",
      "10                 BA             0  1147\n",
      "11                 BA             1  1204\n",
      "12                 CE             0   946\n",
      "13                 CE             1   964\n",
      "14                 DF             0    59\n",
      "15                 DF             1    72\n",
      "16                 ES             0   126\n",
      "17                 ES             1   125\n",
      "18                 GO             0   227\n",
      "19                 GO             1   233\n",
      "20                 MA             0   287\n",
      "21                 MA             1   290\n",
      "22                 MG             0   759\n",
      "23                 MG             1   687\n",
      "24                 MS             0    87\n",
      "25                 MS             1   112\n",
      "26                 MT             0   187\n",
      "27                 MT             1   188\n",
      "28                 PA             0   334\n",
      "29                 PA             1   342\n",
      "30                 PB             0   315\n",
      "31                 PB             1   293\n",
      "32                 PE             0   806\n",
      "33                 PE             1   845\n",
      "34                 PI             0   132\n",
      "35                 PI             1   152\n",
      "36                 PR             0   413\n",
      "37                 PR             1   351\n",
      "38                 RJ             0   348\n",
      "39                 RJ             1   372\n",
      "40                 RN             0   402\n",
      "41                 RN             1   425\n",
      "42                 RO             0    23\n",
      "43                 RO             1    30\n",
      "44                 RR             0     5\n",
      "45                 RR             1    10\n",
      "46                 RS             0  1041\n",
      "47                 RS             1   878\n",
      "48                 SC             0   164\n",
      "49                 SC             1   107\n",
      "50                 SE             0    71\n",
      "51                 SE             1    82\n",
      "52                 SP             0  1138\n",
      "53                 SP             1  1198\n",
      "54                 TO             0    41\n",
      "55                 TO             1    41\n"
     ]
    },
    {
     "data": {
      "image/png": "[encoded data removed]",
      "text/plain": [
       "<Figure size 432x288 with 1 Axes>"
      ]
     },
     "metadata": {},
     "output_type": "display_data"
    },
    {
     "name": "stdout",
     "output_type": "stream",
     "text": [
      "\n",
      "\n",
      "estado_onde_reside\n",
      "   estado_onde_reside  inadimplente     0\n",
      "0                  AC             0    45\n",
      "1                  AC             1    48\n",
      "2                  AL             0   260\n",
      "3                  AL             1   332\n",
      "4                  AM             0    76\n",
      "5                  AM             1    86\n",
      "6                  AP             0   109\n",
      "7                  AP             1    89\n",
      "8                  BA             0   976\n",
      "9                  BA             1  1069\n",
      "10                 CE             0   928\n",
      "11                 CE             1   937\n",
      "12                 DF             0   126\n",
      "13                 DF             1   159\n",
      "14                 ES             0   126\n",
      "15                 ES             1   141\n",
      "16                 GO             0   313\n",
      "17                 GO             1   369\n",
      "18                 MA             0   137\n",
      "19                 MA             1   153\n",
      "20                 MG             0   607\n",
      "21                 MG             1   580\n",
      "22                 MS             0   120\n",
      "23                 MS             1   154\n",
      "24                 MT             0   284\n",
      "25                 MT             1   253\n",
      "26                 PA             0   482\n",
      "27                 PA             1   445\n",
      "28                 PB             0   254\n",
      "29                 PB             1   245\n",
      "30                 PE             0   699\n",
      "31                 PE             1   785\n",
      "32                 PI             0    80\n",
      "33                 PI             1    77\n",
      "34                 PR             0   331\n",
      "35                 PR             1   279\n",
      "36                 RJ             0   427\n",
      "37                 RJ             1   436\n",
      "38                 RN             0   410\n",
      "39                 RN             1   436\n",
      "40                 RO             0    71\n",
      "41                 RO             1    54\n",
      "42                 RR             0    10\n",
      "43                 RR             1    15\n",
      "44                 RS             0  1087\n",
      "45                 RS             1   908\n",
      "46                 SC             0   151\n",
      "47                 SC             1    95\n",
      "48                 SE             0    50\n",
      "49                 SE             1    75\n",
      "50                 SP             0  1821\n",
      "51                 SP             1  1757\n",
      "52                 TO             0    20\n",
      "53                 TO             1    23\n"
     ]
    },
    {
     "data": {
      "image/png": "[encoded data removed]",
      "text/plain": [
       "<Figure size 432x288 with 1 Axes>"
      ]
     },
     "metadata": {},
     "output_type": "display_data"
    },
    {
     "name": "stdout",
     "output_type": "stream",
     "text": [
      "\n",
      "\n",
      "meses_na_residencia\n",
      "     meses_na_residencia  inadimplente     0\n",
      "0                    0.0             0   948\n",
      "1                    0.0             1   910\n",
      "2                    1.0             0  1474\n",
      "3                    1.0             1  1463\n",
      "4                    2.0             0   615\n",
      "..                   ...           ...   ...\n",
      "132                 89.0             1     1\n",
      "133                 96.0             1     1\n",
      "134                100.0             1     1\n",
      "135                200.0             1     1\n",
      "136                228.0             1     1\n",
      "\n",
      "[137 rows x 3 columns]\n"
     ]
    },
    {
     "data": {
      "image/png": "[encoded data removed]",
      "text/plain": [
       "<Figure size 432x288 with 1 Axes>"
      ]
     },
     "metadata": {},
     "output_type": "display_data"
    },
    {
     "name": "stdout",
     "output_type": "stream",
     "text": [
      "\n",
      "\n",
      "vinculo_formal_com_empresa\n",
      "  vinculo_formal_com_empresa  inadimplente     0\n",
      "0                          N             0  5618\n",
      "1                          N             1  5556\n",
      "2                          Y             0  4382\n",
      "3                          Y             1  4444\n"
     ]
    },
    {
     "data": {
      "image/png": "[encoded data removed]",
      "text/plain": [
       "<Figure size 432x288 with 1 Axes>"
      ]
     },
     "metadata": {},
     "output_type": "display_data"
    },
    {
     "name": "stdout",
     "output_type": "stream",
     "text": [
      "\n",
      "\n",
      "possui_carro\n",
      "   possui_carro  inadimplente     0\n",
      "0             0             0  6670\n",
      "1             0             1  6549\n",
      "2             1             0  3330\n",
      "3             1             1  3451\n"
     ]
    },
    {
     "data": {
      "image/png": "[encoded data removed]",
      "text/plain": [
       "<Figure size 432x288 with 1 Axes>"
      ]
     },
     "metadata": {},
     "output_type": "display_data"
    },
    {
     "name": "stdout",
     "output_type": "stream",
     "text": [
      "\n",
      "\n",
      "qtde_contas_bancarias\n",
      "   qtde_contas_bancarias  inadimplente     0\n",
      "0                      0             0  6458\n",
      "1                      0             1  6328\n",
      "2                      1             0  3541\n",
      "3                      1             1  3665\n",
      "4                      2             0     1\n",
      "5                      2             1     7\n"
     ]
    },
    {
     "data": {
      "image/png": "[encoded data removed]",
      "text/plain": [
       "<Figure size 432x288 with 1 Axes>"
      ]
     },
     "metadata": {},
     "output_type": "display_data"
    },
    {
     "name": "stdout",
     "output_type": "stream",
     "text": [
      "\n",
      "\n",
      "produto_solicitado\n",
      "   produto_solicitado  inadimplente     0\n",
      "0                   1             0  8570\n",
      "1                   1             1  8453\n",
      "2                   2             0  1208\n",
      "3                   2             1  1227\n",
      "4                   7             0   222\n",
      "5                   7             1   320\n"
     ]
    },
    {
     "data": {
      "image/png": "[encoded data removed]",
      "text/plain": [
       "<Figure size 432x288 with 1 Axes>"
      ]
     },
     "metadata": {},
     "output_type": "display_data"
    },
    {
     "name": "stdout",
     "output_type": "stream",
     "text": [
      "\n",
      "\n",
      "tipo_residencia\n",
      "    tipo_residencia  inadimplente     0\n",
      "0               0.0             0   157\n",
      "1               0.0             1   174\n",
      "2               1.0             0  8359\n",
      "3               1.0             1  8138\n",
      "4               2.0             0   730\n",
      "5               2.0             1   905\n",
      "6               3.0             0    26\n",
      "7               3.0             1    22\n",
      "8               4.0             0    60\n",
      "9               4.0             1    66\n",
      "10              5.0             0   395\n",
      "11              5.0             1   432\n"
     ]
    },
    {
     "data": {
      "image/png": "[encoded data removed]",
      "text/plain": [
       "<Figure size 432x288 with 1 Axes>"
      ]
     },
     "metadata": {},
     "output_type": "display_data"
    },
    {
     "name": "stdout",
     "output_type": "stream",
     "text": [
      "\n",
      "\n",
      "ocupacao\n",
      "    ocupacao  inadimplente     0\n",
      "0        0.0             0   565\n",
      "1        0.0             1   549\n",
      "2        1.0             0  1829\n",
      "3        1.0             1  1315\n",
      "4        2.0             0  3331\n",
      "5        2.0             1  3551\n",
      "6        3.0             0    70\n",
      "7        3.0             1    66\n",
      "8        4.0             0  1367\n",
      "9        4.0             1  1557\n",
      "10       5.0             0  1381\n",
      "11       5.0             1  1441\n"
     ]
    },
    {
     "data": {
      "image/png": "[encoded data removed]",
      "text/plain": [
       "<Figure size 432x288 with 1 Axes>"
      ]
     },
     "metadata": {},
     "output_type": "display_data"
    },
    {
     "name": "stdout",
     "output_type": "stream",
     "text": [
      "\n",
      "\n",
      "carro_e_emprego\n",
      "  carro_e_emprego  inadimplente     0\n",
      "0               0             0  3866\n",
      "1               0             1  3745\n",
      "2               2             0  6134\n",
      "3               2             1  6255\n"
     ]
    },
    {
     "data": {
      "image/png": "[encoded data removed]",
      "text/plain": [
       "<Figure size 432x288 with 1 Axes>"
      ]
     },
     "metadata": {},
     "output_type": "display_data"
    }
   ],
   "source": [
    "sns.set_style('white')\n",
    "\n",
    "cols = ['dia_vencimento',\n",
    "       'forma_envio_solicitacao', 'sexo',\n",
    "       'estado_civil', 'possui_telefone_residencial',\n",
    "       'estado_onde_nasceu', 'estado_onde_reside', 'estado_onde_trabalha', 'meses_na_residencia',\n",
    "       'vinculo_formal_com_empresa', 'possui_carro',\n",
    "       'qtde_contas_bancarias', 'produto_solicitado', 'tipo_residencia', 'ocupacao', 'carro_e_emprego']\n",
    "\n",
    "for col in cols:\n",
    "    plot_inadimplente_analysis(col)"
   ]
  },
  {
   "cell_type": "code",
   "execution_count": 35,
   "metadata": {},
   "outputs": [
    {
     "data": {
      "text/plain": [
       "19"
      ]
     },
     "execution_count": 35,
     "metadata": {},
     "output_type": "execute_result"
    }
   ],
   "source": [
    "useful_features = ['id_solicitante', 'produto_solicitado', 'dia_vencimento',\n",
    "       'sexo', 'idade', 'estado_civil',\n",
    "       'possui_telefone_residencial', 'meses_na_residencia',\n",
    "       'valor_patrimonio_pessoal_norm', 'profissao', 'ocupacao',\n",
    "       'inadimplente', 'idade_bin',\n",
    "       'renda_total_norm', 'estado_onde_nasceu', 'estado_onde_reside',\n",
    "       'regiao_onde_reside' , 'regiao_onde_nasceu', 'origem'] \n",
    "\n",
    "len(useful_features)"
   ]
  },
  {
   "cell_type": "markdown",
   "metadata": {},
   "source": [
    "### Análise de renda"
   ]
  },
  {
   "cell_type": "code",
   "execution_count": 31,
   "metadata": {},
   "outputs": [],
   "source": [
    "credit_df['renda_total'] = credit_df['renda_mensal_regular'] + credit_df['renda_extra']"
   ]
  },
  {
   "cell_type": "code",
   "execution_count": 32,
   "metadata": {},
   "outputs": [],
   "source": [
    "credit_df['valor_patrimonio_pessoal_norm'] = (\n",
    "    credit_df['valor_patrimonio_pessoal']-credit_df['valor_patrimonio_pessoal'].mean())/credit_df['valor_patrimonio_pessoal'].std()\n",
    "\n",
    "credit_df['renda_total_norm'] = (\n",
    "    credit_df['renda_total']-credit_df['renda_total'].mean())/credit_df['renda_total'].std()"
   ]
  },
  {
   "cell_type": "code",
   "execution_count": 16,
   "metadata": {},
   "outputs": [
    {
     "data": {
      "text/plain": [
       "0       -0.047591\n",
       "1       -0.047591\n",
       "2       -0.047591\n",
       "3       -0.047591\n",
       "4       -0.047591\n",
       "           ...   \n",
       "19995   -0.047591\n",
       "19996   -0.047591\n",
       "19997   -0.047591\n",
       "19998   -0.047591\n",
       "19999   -0.047591\n",
       "Name: valor_patrimonio_pessoal_norm, Length: 20000, dtype: float64"
      ]
     },
     "execution_count": 16,
     "metadata": {},
     "output_type": "execute_result"
    }
   ],
   "source": [
    "credit_df['valor_patrimonio_pessoal_norm']"
   ]
  },
  {
   "cell_type": "code",
   "execution_count": 18,
   "metadata": {},
   "outputs": [
    {
     "data": {
      "text/plain": [
       "<AxesSubplot:xlabel='renda_total_norm', ylabel='idade'>"
      ]
     },
     "execution_count": 18,
     "metadata": {},
     "output_type": "execute_result"
    },
    {
     "data": {
      "image/png": "[encoded data removed]",
      "text/plain": [
       "<Figure size 432x288 with 1 Axes>"
      ]
     },
     "metadata": {
      "needs_background": "light"
     },
     "output_type": "display_data"
    }
   ],
   "source": [
    "x = credit_df[['renda_total_norm', 'idade', 'inadimplente']]\n",
    "\n",
    "sns.scatterplot(x='renda_total_norm', y='idade', data=x, hue='inadimplente')"
   ]
  },
  {
   "cell_type": "code",
   "execution_count": 243,
   "metadata": {},
   "outputs": [
    {
     "data": {
      "text/plain": [
       "<AxesSubplot:xlabel='renda_total_norm', ylabel='valor_patrimonio_pessoal_norm'>"
      ]
     },
     "execution_count": 243,
     "metadata": {},
     "output_type": "execute_result"
    },
    {
     "data": {
      "image/png": "[encoded data removed]",
      "text/plain": [
       "<Figure size 432x288 with 1 Axes>"
      ]
     },
     "metadata": {},
     "output_type": "display_data"
    }
   ],
   "source": [
    "x = credit_df[\n",
    "    (credit_df['renda_total_norm'] < 0) &\n",
    "    (credit_df['valor_patrimonio_pessoal_norm'] < 0)\n",
    "     ][['renda_total_norm', 'valor_patrimonio_pessoal_norm', 'inadimplente']]\n",
    "\n",
    "sns.scatterplot(\n",
    "    x='renda_total_norm', y='valor_patrimonio_pessoal_norm', data=x, hue='inadimplente'\n",
    ")"
   ]
  },
  {
   "cell_type": "markdown",
   "metadata": {},
   "source": [
    "### Análise por estado / Região"
   ]
  },
  {
   "cell_type": "code",
   "execution_count": 33,
   "metadata": {},
   "outputs": [],
   "source": [
    "estado_cols = ['estado_onde_trabalha', 'estado_onde_nasceu', 'estado_onde_reside']"
   ]
  },
  {
   "cell_type": "code",
   "execution_count": 248,
   "metadata": {},
   "outputs": [
    {
     "data": {
      "text/plain": [
       "'_onde_trabalha'"
      ]
     },
     "execution_count": 248,
     "metadata": {},
     "output_type": "execute_result"
    }
   ],
   "source": [
    "x = 'estado_onde_trabalha'\n",
    "x[6:]"
   ]
  },
  {
   "cell_type": "code",
   "execution_count": 174,
   "metadata": {},
   "outputs": [
    {
     "data": {
      "text/plain": [
       "array(['CE', 'SE', 'BA', 'RS', 'SP', 'ES', 'GO', 'PR', 'AC', 'PE', ' ',\n",
       "       'MA', 'MG', 'MT', 'RN', 'PA', 'SC', 'PI', 'RR', 'RJ', 'AL', 'AM',\n",
       "       'DF', 'MS', 'PB', 'TO', 'AP', 'RO'], dtype=object)"
      ]
     },
     "execution_count": 174,
     "metadata": {},
     "output_type": "execute_result"
    }
   ],
   "source": [
    "credit_df['estado_onde_nasceu'].unique()"
   ]
  },
  {
   "cell_type": "code",
   "execution_count": 34,
   "metadata": {},
   "outputs": [
    {
     "name": "stdout",
     "output_type": "stream",
     "text": [
      "0\n",
      "0\n",
      "0\n"
     ]
    }
   ],
   "source": [
    "# cria coluna regiao\n",
    "regions = {'PR' : 'Sul', \n",
    "'RS' : 'Sul',\n",
    "'SC' : 'Sul',\n",
    "'RJ' : 'Sudeste',\n",
    "'SP' : 'Sudeste',\n",
    "'ES' : 'Sudeste',\n",
    "'MG' : 'Sudeste',\n",
    "'DF' : 'Centro-Oeste',\n",
    "'GO' : 'Centro-Oeste', \n",
    "'MT' : 'Centro-Oeste',\n",
    "'MS' : 'Centro-Oeste',\n",
    "'PA' : 'Norte', \n",
    "'AC' : 'Norte',\n",
    "'RR' : 'Norte', \n",
    "'AM' : 'Norte', \n",
    "'RO' : 'Norte', \n",
    "'TO' : 'Norte', \n",
    "'AP' : 'Norte',\n",
    "'BA' : 'Nordeste',\n",
    "'CE' : 'Nordeste', \n",
    "'SE' : 'Nordeste', \n",
    "'PE' : 'Nordeste', \n",
    "'MA' : 'Nordeste', \n",
    "'PI' : 'Nordeste', \n",
    "'AL' : 'Nordeste', \n",
    "'PB' : 'Nordeste', \n",
    "'RN' : 'Nordeste',\n",
    "' ' : 'Sem estado'}\n",
    "\n",
    "regiao_cols = []\n",
    "\n",
    "for col in estado_cols:\n",
    "    credit_df[f'regiao{col[6:]}'] = credit_df[col].map(regions)\n",
    "    regiao_cols.append(f'regiao{col[6:]}')\n",
    "    print(credit_df[f'regiao{col[6:]}'].isna().sum())"
   ]
  },
  {
   "cell_type": "code",
   "execution_count": 252,
   "metadata": {},
   "outputs": [
    {
     "name": "stdout",
     "output_type": "stream",
     "text": [
      "regiao__onde_trabalha\n"
     ]
    },
    {
     "data": {
      "image/png": "[encoded data removed]",
      "text/plain": [
       "<Figure size 432x288 with 1 Axes>"
      ]
     },
     "metadata": {},
     "output_type": "display_data"
    },
    {
     "name": "stdout",
     "output_type": "stream",
     "text": [
      "regiao__onde_nasceu\n"
     ]
    },
    {
     "data": {
      "image/png": "[encoded data removed]",
      "text/plain": [
       "<Figure size 432x288 with 1 Axes>"
      ]
     },
     "metadata": {},
     "output_type": "display_data"
    },
    {
     "name": "stdout",
     "output_type": "stream",
     "text": [
      "regiao__onde_reside\n"
     ]
    },
    {
     "data": {
      "image/png": "[encoded data removed]",
      "text/plain": [
       "<Figure size 432x288 with 1 Axes>"
      ]
     },
     "metadata": {},
     "output_type": "display_data"
    }
   ],
   "source": [
    "for col in regiao_cols:\n",
    "    x = credit_df.groupby([col, 'inadimplente']).size().reset_index()\n",
    "    print(col)\n",
    "    sns.barplot(x=col, y=0, hue='inadimplente', data=x)\n",
    "    plt.show()"
   ]
  },
  {
   "cell_type": "code",
   "execution_count": 126,
   "metadata": {},
   "outputs": [
    {
     "name": "stdout",
     "output_type": "stream",
     "text": [
      "Nordeste\n"
     ]
    },
    {
     "data": {
      "image/png": "[encoded data removed]",
      "text/plain": [
       "<Figure size 432x288 with 1 Axes>"
      ]
     },
     "metadata": {},
     "output_type": "display_data"
    },
    {
     "name": "stdout",
     "output_type": "stream",
     "text": [
      "Sul\n"
     ]
    },
    {
     "data": {
      "image/png": "[encoded data removed]",
      "text/plain": [
       "<Figure size 432x288 with 1 Axes>"
      ]
     },
     "metadata": {},
     "output_type": "display_data"
    },
    {
     "name": "stdout",
     "output_type": "stream",
     "text": [
      "Sudeste\n"
     ]
    },
    {
     "data": {
      "image/png": "[encoded data removed]",
      "text/plain": [
       "<Figure size 432x288 with 1 Axes>"
      ]
     },
     "metadata": {},
     "output_type": "display_data"
    },
    {
     "name": "stdout",
     "output_type": "stream",
     "text": [
      "Centro-Oeste\n"
     ]
    },
    {
     "data": {
      "image/png": "[encoded data removed]",
      "text/plain": [
       "<Figure size 432x288 with 1 Axes>"
      ]
     },
     "metadata": {},
     "output_type": "display_data"
    },
    {
     "name": "stdout",
     "output_type": "stream",
     "text": [
      "Norte\n"
     ]
    },
    {
     "data": {
      "image/png": "[encoded data removed]",
      "text/plain": [
       "<Figure size 432x288 with 1 Axes>"
      ]
     },
     "metadata": {},
     "output_type": "display_data"
    },
    {
     "name": "stdout",
     "output_type": "stream",
     "text": [
      "Sem estado\n"
     ]
    },
    {
     "data": {
      "image/png": "[encoded data removed]",
      "text/plain": [
       "<Figure size 432x288 with 1 Axes>"
      ]
     },
     "metadata": {},
     "output_type": "display_data"
    }
   ],
   "source": [
    "for regiao in credit_df['regiao'].unique().tolist():\n",
    "    print(regiao)\n",
    "    x = credit_df[\n",
    "        credit_df['regiao'] == regiao\n",
    "    ].groupby(['estado_onde_nasceu', 'inadimplente']).size().reset_index()\n",
    "\n",
    "    sns.barplot(x='estado_onde_nasceu', y=0, hue='inadimplente', data=x)\n",
    "    \n",
    "    plt.show()"
   ]
  },
  {
   "cell_type": "code",
   "execution_count": 38,
   "metadata": {},
   "outputs": [],
   "source": [
    "partial_clean_df = credit_df[useful_features]"
   ]
  },
  {
   "cell_type": "code",
   "execution_count": 39,
   "metadata": {},
   "outputs": [
    {
     "data": {
      "text/html": [
       "<div>\n",
       "<style scoped>\n",
       "    .dataframe tbody tr th:only-of-type {\n",
       "        vertical-align: middle;\n",
       "    }\n",
       "\n",
       "    .dataframe tbody tr th {\n",
       "        vertical-align: top;\n",
       "    }\n",
       "\n",
       "    .dataframe thead th {\n",
       "        text-align: right;\n",
       "    }\n",
       "</style>\n",
       "<table border=\"1\" class=\"dataframe\">\n",
       "  <thead>\n",
       "    <tr style=\"text-align: right;\">\n",
       "      <th></th>\n",
       "      <th>id_solicitante</th>\n",
       "      <th>produto_solicitado</th>\n",
       "      <th>dia_vencimento</th>\n",
       "      <th>sexo</th>\n",
       "      <th>idade</th>\n",
       "      <th>estado_civil</th>\n",
       "      <th>possui_telefone_residencial</th>\n",
       "      <th>meses_na_residencia</th>\n",
       "      <th>valor_patrimonio_pessoal_norm</th>\n",
       "      <th>profissao</th>\n",
       "      <th>ocupacao</th>\n",
       "      <th>inadimplente</th>\n",
       "      <th>idade_bin</th>\n",
       "      <th>renda_total_norm</th>\n",
       "      <th>estado_onde_nasceu</th>\n",
       "      <th>estado_onde_reside</th>\n",
       "      <th>regiao_onde_reside</th>\n",
       "      <th>regiao_onde_nasceu</th>\n",
       "      <th>origem</th>\n",
       "    </tr>\n",
       "  </thead>\n",
       "  <tbody>\n",
       "    <tr>\n",
       "      <th>0</th>\n",
       "      <td>1</td>\n",
       "      <td>1</td>\n",
       "      <td>10</td>\n",
       "      <td>M</td>\n",
       "      <td>85</td>\n",
       "      <td>2</td>\n",
       "      <td>Y</td>\n",
       "      <td>12.0</td>\n",
       "      <td>-0.05199</td>\n",
       "      <td>9.0</td>\n",
       "      <td>1.0</td>\n",
       "      <td>0.0</td>\n",
       "      <td>(80, 90]</td>\n",
       "      <td>-0.046670</td>\n",
       "      <td>CE</td>\n",
       "      <td>CE</td>\n",
       "      <td>Nordeste</td>\n",
       "      <td>Nordeste</td>\n",
       "      <td>treino</td>\n",
       "    </tr>\n",
       "    <tr>\n",
       "      <th>1</th>\n",
       "      <td>2</td>\n",
       "      <td>1</td>\n",
       "      <td>25</td>\n",
       "      <td>F</td>\n",
       "      <td>38</td>\n",
       "      <td>1</td>\n",
       "      <td>Y</td>\n",
       "      <td>5.0</td>\n",
       "      <td>-0.05199</td>\n",
       "      <td>2.0</td>\n",
       "      <td>5.0</td>\n",
       "      <td>0.0</td>\n",
       "      <td>(30, 40]</td>\n",
       "      <td>-0.056198</td>\n",
       "      <td>SE</td>\n",
       "      <td>SE</td>\n",
       "      <td>Nordeste</td>\n",
       "      <td>Nordeste</td>\n",
       "      <td>treino</td>\n",
       "    </tr>\n",
       "    <tr>\n",
       "      <th>2</th>\n",
       "      <td>3</td>\n",
       "      <td>1</td>\n",
       "      <td>20</td>\n",
       "      <td>F</td>\n",
       "      <td>37</td>\n",
       "      <td>2</td>\n",
       "      <td>Y</td>\n",
       "      <td>1.0</td>\n",
       "      <td>-0.05199</td>\n",
       "      <td>NaN</td>\n",
       "      <td>NaN</td>\n",
       "      <td>1.0</td>\n",
       "      <td>(30, 40]</td>\n",
       "      <td>-0.035237</td>\n",
       "      <td>BA</td>\n",
       "      <td>BA</td>\n",
       "      <td>Nordeste</td>\n",
       "      <td>Nordeste</td>\n",
       "      <td>treino</td>\n",
       "    </tr>\n",
       "    <tr>\n",
       "      <th>3</th>\n",
       "      <td>4</td>\n",
       "      <td>1</td>\n",
       "      <td>20</td>\n",
       "      <td>M</td>\n",
       "      <td>37</td>\n",
       "      <td>1</td>\n",
       "      <td>Y</td>\n",
       "      <td>1.0</td>\n",
       "      <td>-0.05199</td>\n",
       "      <td>9.0</td>\n",
       "      <td>2.0</td>\n",
       "      <td>1.0</td>\n",
       "      <td>(30, 40]</td>\n",
       "      <td>-0.048576</td>\n",
       "      <td>RS</td>\n",
       "      <td>RS</td>\n",
       "      <td>Sul</td>\n",
       "      <td>Sul</td>\n",
       "      <td>treino</td>\n",
       "    </tr>\n",
       "    <tr>\n",
       "      <th>4</th>\n",
       "      <td>5</td>\n",
       "      <td>7</td>\n",
       "      <td>1</td>\n",
       "      <td>F</td>\n",
       "      <td>51</td>\n",
       "      <td>1</td>\n",
       "      <td>Y</td>\n",
       "      <td>1.0</td>\n",
       "      <td>-0.05199</td>\n",
       "      <td>9.0</td>\n",
       "      <td>5.0</td>\n",
       "      <td>1.0</td>\n",
       "      <td>(50, 60]</td>\n",
       "      <td>0.030217</td>\n",
       "      <td>BA</td>\n",
       "      <td>BA</td>\n",
       "      <td>Nordeste</td>\n",
       "      <td>Nordeste</td>\n",
       "      <td>treino</td>\n",
       "    </tr>\n",
       "    <tr>\n",
       "      <th>...</th>\n",
       "      <td>...</td>\n",
       "      <td>...</td>\n",
       "      <td>...</td>\n",
       "      <td>...</td>\n",
       "      <td>...</td>\n",
       "      <td>...</td>\n",
       "      <td>...</td>\n",
       "      <td>...</td>\n",
       "      <td>...</td>\n",
       "      <td>...</td>\n",
       "      <td>...</td>\n",
       "      <td>...</td>\n",
       "      <td>...</td>\n",
       "      <td>...</td>\n",
       "      <td>...</td>\n",
       "      <td>...</td>\n",
       "      <td>...</td>\n",
       "      <td>...</td>\n",
       "      <td>...</td>\n",
       "    </tr>\n",
       "    <tr>\n",
       "      <th>4995</th>\n",
       "      <td>24996</td>\n",
       "      <td>1</td>\n",
       "      <td>10</td>\n",
       "      <td>F</td>\n",
       "      <td>49</td>\n",
       "      <td>2</td>\n",
       "      <td>N</td>\n",
       "      <td>8.0</td>\n",
       "      <td>-0.05199</td>\n",
       "      <td>9.0</td>\n",
       "      <td>1.0</td>\n",
       "      <td>NaN</td>\n",
       "      <td>(40, 50]</td>\n",
       "      <td>-0.025709</td>\n",
       "      <td>MA</td>\n",
       "      <td>MA</td>\n",
       "      <td>Nordeste</td>\n",
       "      <td>Nordeste</td>\n",
       "      <td>teste</td>\n",
       "    </tr>\n",
       "    <tr>\n",
       "      <th>4996</th>\n",
       "      <td>24997</td>\n",
       "      <td>1</td>\n",
       "      <td>5</td>\n",
       "      <td>M</td>\n",
       "      <td>18</td>\n",
       "      <td>2</td>\n",
       "      <td>Y</td>\n",
       "      <td>2.0</td>\n",
       "      <td>-0.05199</td>\n",
       "      <td>NaN</td>\n",
       "      <td>NaN</td>\n",
       "      <td>NaN</td>\n",
       "      <td>(10, 20]</td>\n",
       "      <td>-0.031426</td>\n",
       "      <td>PR</td>\n",
       "      <td>PR</td>\n",
       "      <td>Sul</td>\n",
       "      <td>Sul</td>\n",
       "      <td>teste</td>\n",
       "    </tr>\n",
       "    <tr>\n",
       "      <th>4997</th>\n",
       "      <td>24998</td>\n",
       "      <td>1</td>\n",
       "      <td>10</td>\n",
       "      <td>F</td>\n",
       "      <td>29</td>\n",
       "      <td>1</td>\n",
       "      <td>Y</td>\n",
       "      <td>2.0</td>\n",
       "      <td>-0.05199</td>\n",
       "      <td>9.0</td>\n",
       "      <td>5.0</td>\n",
       "      <td>NaN</td>\n",
       "      <td>(20, 30]</td>\n",
       "      <td>-0.044765</td>\n",
       "      <td>MA</td>\n",
       "      <td>MG</td>\n",
       "      <td>Sudeste</td>\n",
       "      <td>Nordeste</td>\n",
       "      <td>teste</td>\n",
       "    </tr>\n",
       "    <tr>\n",
       "      <th>4998</th>\n",
       "      <td>24999</td>\n",
       "      <td>1</td>\n",
       "      <td>25</td>\n",
       "      <td>F</td>\n",
       "      <td>31</td>\n",
       "      <td>2</td>\n",
       "      <td>Y</td>\n",
       "      <td>10.0</td>\n",
       "      <td>-0.05199</td>\n",
       "      <td>NaN</td>\n",
       "      <td>NaN</td>\n",
       "      <td>NaN</td>\n",
       "      <td>(30, 40]</td>\n",
       "      <td>-0.059056</td>\n",
       "      <td>PA</td>\n",
       "      <td>PA</td>\n",
       "      <td>Norte</td>\n",
       "      <td>Norte</td>\n",
       "      <td>teste</td>\n",
       "    </tr>\n",
       "    <tr>\n",
       "      <th>4999</th>\n",
       "      <td>25000</td>\n",
       "      <td>1</td>\n",
       "      <td>25</td>\n",
       "      <td>F</td>\n",
       "      <td>54</td>\n",
       "      <td>1</td>\n",
       "      <td>Y</td>\n",
       "      <td>14.0</td>\n",
       "      <td>-0.05199</td>\n",
       "      <td>9.0</td>\n",
       "      <td>5.0</td>\n",
       "      <td>NaN</td>\n",
       "      <td>(50, 60]</td>\n",
       "      <td>-0.025709</td>\n",
       "      <td>BA</td>\n",
       "      <td>BA</td>\n",
       "      <td>Nordeste</td>\n",
       "      <td>Nordeste</td>\n",
       "      <td>teste</td>\n",
       "    </tr>\n",
       "  </tbody>\n",
       "</table>\n",
       "<p>25000 rows × 19 columns</p>\n",
       "</div>"
      ],
      "text/plain": [
       "      id_solicitante  produto_solicitado  dia_vencimento sexo  idade  \\\n",
       "0                  1                   1              10    M     85   \n",
       "1                  2                   1              25    F     38   \n",
       "2                  3                   1              20    F     37   \n",
       "3                  4                   1              20    M     37   \n",
       "4                  5                   7               1    F     51   \n",
       "...              ...                 ...             ...  ...    ...   \n",
       "4995           24996                   1              10    F     49   \n",
       "4996           24997                   1               5    M     18   \n",
       "4997           24998                   1              10    F     29   \n",
       "4998           24999                   1              25    F     31   \n",
       "4999           25000                   1              25    F     54   \n",
       "\n",
       "      estado_civil possui_telefone_residencial  meses_na_residencia  \\\n",
       "0                2                           Y                 12.0   \n",
       "1                1                           Y                  5.0   \n",
       "2                2                           Y                  1.0   \n",
       "3                1                           Y                  1.0   \n",
       "4                1                           Y                  1.0   \n",
       "...            ...                         ...                  ...   \n",
       "4995             2                           N                  8.0   \n",
       "4996             2                           Y                  2.0   \n",
       "4997             1                           Y                  2.0   \n",
       "4998             2                           Y                 10.0   \n",
       "4999             1                           Y                 14.0   \n",
       "\n",
       "      valor_patrimonio_pessoal_norm  profissao  ocupacao  inadimplente  \\\n",
       "0                          -0.05199        9.0       1.0           0.0   \n",
       "1                          -0.05199        2.0       5.0           0.0   \n",
       "2                          -0.05199        NaN       NaN           1.0   \n",
       "3                          -0.05199        9.0       2.0           1.0   \n",
       "4                          -0.05199        9.0       5.0           1.0   \n",
       "...                             ...        ...       ...           ...   \n",
       "4995                       -0.05199        9.0       1.0           NaN   \n",
       "4996                       -0.05199        NaN       NaN           NaN   \n",
       "4997                       -0.05199        9.0       5.0           NaN   \n",
       "4998                       -0.05199        NaN       NaN           NaN   \n",
       "4999                       -0.05199        9.0       5.0           NaN   \n",
       "\n",
       "     idade_bin  renda_total_norm estado_onde_nasceu estado_onde_reside  \\\n",
       "0     (80, 90]         -0.046670                 CE                 CE   \n",
       "1     (30, 40]         -0.056198                 SE                 SE   \n",
       "2     (30, 40]         -0.035237                 BA                 BA   \n",
       "3     (30, 40]         -0.048576                 RS                 RS   \n",
       "4     (50, 60]          0.030217                 BA                 BA   \n",
       "...        ...               ...                ...                ...   \n",
       "4995  (40, 50]         -0.025709                 MA                 MA   \n",
       "4996  (10, 20]         -0.031426                 PR                 PR   \n",
       "4997  (20, 30]         -0.044765                 MA                 MG   \n",
       "4998  (30, 40]         -0.059056                 PA                 PA   \n",
       "4999  (50, 60]         -0.025709                 BA                 BA   \n",
       "\n",
       "     regiao_onde_reside regiao_onde_nasceu  origem  \n",
       "0              Nordeste           Nordeste  treino  \n",
       "1              Nordeste           Nordeste  treino  \n",
       "2              Nordeste           Nordeste  treino  \n",
       "3                   Sul                Sul  treino  \n",
       "4              Nordeste           Nordeste  treino  \n",
       "...                 ...                ...     ...  \n",
       "4995           Nordeste           Nordeste   teste  \n",
       "4996                Sul                Sul   teste  \n",
       "4997            Sudeste           Nordeste   teste  \n",
       "4998              Norte              Norte   teste  \n",
       "4999           Nordeste           Nordeste   teste  \n",
       "\n",
       "[25000 rows x 19 columns]"
      ]
     },
     "execution_count": 39,
     "metadata": {},
     "output_type": "execute_result"
    }
   ],
   "source": [
    "partial_clean_df"
   ]
  },
  {
   "cell_type": "code",
   "execution_count": 42,
   "metadata": {},
   "outputs": [],
   "source": [
    "partial_clean_df.to_csv(f'data/desafio 1/dataset_from_eda_{date.today()}.csv', index=False)"
   ]
  }
 ],
 "metadata": {
  "kernelspec": {
   "display_name": "Python 3",
   "language": "python",
   "name": "python3"
  },
  "language_info": {
   "codemirror_mode": {
    "name": "ipython",
    "version": 3
   },
   "file_extension": ".py",
   "mimetype": "text/x-python",
   "name": "python",
   "nbconvert_exporter": "python",
   "pygments_lexer": "ipython3",
   "version": "3.8.5"
  }
 },
 "nbformat": 4,
 "nbformat_minor": 4
}
